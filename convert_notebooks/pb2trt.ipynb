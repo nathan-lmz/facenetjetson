{
 "cells": [
  {
   "cell_type": "code",
   "execution_count": 1,
   "metadata": {},
   "outputs": [
    {
     "name": "stdout",
     "output_type": "stream",
     "text": [
      "WARNING:tensorflow:Deprecation warnings have been disabled. Set TF_ENABLE_DEPRECATION_WARNINGS=1 to re-enable them.\n",
      "WARNING:tensorflow:\n",
      "The TensorFlow contrib module will not be included in TensorFlow 2.0.\n",
      "For more information, please see:\n",
      "  * https://github.com/tensorflow/community/blob/master/rfcs/20180907-contrib-sunset.md\n",
      "  * https://github.com/tensorflow/addons\n",
      "  * https://github.com/tensorflow/io (for I/O related ops)\n",
      "If you depend on functionality not listed there, please file an issue.\n",
      "\n",
      "1.15.5\n",
      "5.70016884803772\n"
     ]
    }
   ],
   "source": [
    "import tensorflow as tf\n",
    "import tensorflow.contrib.tensorrt as trt\n",
    "import time\n",
    "print(tf.__version__)\n",
    "\n",
    "start = time.time()\n",
    "with tf.Session( ) as sess:\n",
    "    # deserialize the frozen graph\n",
    "#     with tf.gfile.GFile(\"./facenet/facenet.pb\", \"rb\") as f:\n",
    "    with tf.gfile.GFile(\"./pb/fn_vgg2.pb\", \"rb\") as f:\n",
    "        frozen_graph = tf.GraphDef()\n",
    "        frozen_graph.ParseFromString(f.read())\n",
    "end = time.time()\n",
    "print(end-start)"
   ]
  },
  {
   "cell_type": "code",
   "execution_count": 3,
   "metadata": {},
   "outputs": [
    {
     "name": "stdout",
     "output_type": "stream",
     "text": [
      "2280\n"
     ]
    }
   ],
   "source": [
    "# for node in frozen_graph.node:¶\n",
    "    # print(node.name)\n",
    "node_num = len([1 for n in frozen_graph.node] )\n",
    "print(node_num)"
   ]
  },
  {
   "cell_type": "code",
   "execution_count": 5,
   "metadata": {},
   "outputs": [
    {
     "name": "stdout",
     "output_type": "stream",
     "text": [
      "INFO:tensorflow:Linked TensorRT version: (7, 1, 3)\n",
      "INFO:tensorflow:Loaded TensorRT version: (7, 1, 3)\n",
      "INFO:tensorflow:Running against TensorRT version 7.1.3\n",
      "87.69304156303406\n"
     ]
    }
   ],
   "source": [
    "start = time.time()\n",
    "# output_nodes = [\"embeddings\"]\n",
    "# input_node   = \"input\"\n",
    "\n",
    "output_nodes = [\"Bottleneck_BatchNorm/batchnorm_1/add_1:0\"]\n",
    "calib_graph = trt.create_inference_graph(\n",
    "    input_graph_def=frozen_graph,\n",
    "    outputs=output_nodes,\n",
    "    max_batch_size=1,\n",
    "    max_workspace_size_bytes= 1<<27,\n",
    "    precision_mode='FP16',\n",
    "    minimum_segment_size=3,\n",
    ")\n",
    "\n",
    "\n",
    "print(str(time.time()-start))"
   ]
  },
  {
   "cell_type": "code",
   "execution_count": 6,
   "metadata": {},
   "outputs": [
    {
     "name": "stdout",
     "output_type": "stream",
     "text": [
      "4\n"
     ]
    }
   ],
   "source": [
    "# trt_engine_ops = len([1 for n in calib_graph.node if str(n.op)=='TRTEngineOp'])\n",
    "trt_engine_ops = len([1 for n in calib_graph.node] )\n",
    "print(trt_engine_ops)"
   ]
  },
  {
   "cell_type": "code",
   "execution_count": 7,
   "metadata": {},
   "outputs": [],
   "source": [
    "# from tensorflow.python.compiler.tensorrt import trt_convert\n",
    "\n",
    "# converter = trt_convert.TrtGraphConverter(input_graph_def=frozen_graph,nodes_blacklist=output_nodes)\n",
    "# trt_graph = converter.convert()\n",
    "\n",
    "# with open('./trt/fn_vgg_fp16.pb', 'wb') as f:\n",
    "#     f.write(trt_graph.SerializeToString())"
   ]
  },
  {
   "cell_type": "code",
   "execution_count": 8,
   "metadata": {},
   "outputs": [
    {
     "data": {
      "text/plain": [
       "'pb/fn_fp16_64MB.pb'"
      ]
     },
     "execution_count": 8,
     "metadata": {},
     "output_type": "execute_result"
    }
   ],
   "source": [
    "tf.train.write_graph(calib_graph, \"pb\", \"fn_fp16_64MB.pb\", as_text=False)"
   ]
  },
  {
   "cell_type": "code",
   "execution_count": 4,
   "metadata": {},
   "outputs": [
    {
     "data": {
      "text/plain": [
       "67108864"
      ]
     },
     "execution_count": 4,
     "metadata": {},
     "output_type": "execute_result"
    }
   ],
   "source": [
    "1<<26"
   ]
  },
  {
   "cell_type": "code",
   "execution_count": null,
   "metadata": {},
   "outputs": [],
   "source": []
  }
 ],
 "metadata": {
  "kernelspec": {
   "display_name": "tf1",
   "language": "python",
   "name": "tf1"
  },
  "language_info": {
   "codemirror_mode": {
    "name": "ipython",
    "version": 3
   },
   "file_extension": ".py",
   "mimetype": "text/x-python",
   "name": "python",
   "nbconvert_exporter": "python",
   "pygments_lexer": "ipython3",
   "version": "3.6.9"
  }
 },
 "nbformat": 4,
 "nbformat_minor": 4
}
